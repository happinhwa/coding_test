{
 "cells": [
  {
   "cell_type": "markdown",
   "id": "a9481f13-89ab-4cf9-9e1c-f7eff6c71cf5",
   "metadata": {},
   "source": [
    "# 같은 숫자는 싫어"
   ]
  },
  {
   "cell_type": "markdown",
   "id": "d48f87c0-14c8-4f12-82f7-ef9f54e5cf35",
   "metadata": {},
   "source": [
    "### 문제 설명\n",
    "\n",
    "- 배열 arr가 주어집니다. 배열 arr의 각 원소는 숫자 0부터 9까지로 이루어져 있습니다. 이때, 배열 arr에서 연속적으로 나타나는 숫자는 하나만 남기고 전부 제거하려고 합니다. 단, 제거된 후 남은 수들을 반환할 때는 배열 arr의 원소들의 순서를 유지해야 합니다. 예를 들면,\n",
    "- arr = [1, 1, 3, 3, 0, 1, 1] 이면 [1, 3, 0, 1] 을 return 합니다.\n",
    "- arr = [4, 4, 4, 3, 3] 이면 [4, 3] 을 return 합니다.\n",
    "- 배열 arr에서 연속적으로 나타나는 숫자는 제거하고 남은 수들을 return 하는 solution 함수를 완성해 주세요.\n",
    "\n",
    "### 제한사항\n",
    "- 배열 arr의 크기 : 1,000,000 이하의 자연수\n",
    "- 배열 arr의 원소의 크기 : 0보다 크거나 같고 9보다 작거나 같은 정수\n",
    "### 입출력 예\n",
    "- arr\tanswer\n",
    "- [1,1,3,3,0,1,1]\t[1,3,0,1]\n",
    "- [4,4,4,3,3]\t[4,3]\n",
    "### 입출력 예 설명\n",
    "- 입출력 예 #1,2\n",
    "- 문제의 예시와 같습니다."
   ]
  },
  {
   "cell_type": "code",
   "execution_count": 5,
   "id": "c7448c92-4e95-43c0-a64b-1458e8fcfe4a",
   "metadata": {},
   "outputs": [],
   "source": [
    "# 주어진 코드\n",
    "def solution(arr):\n",
    "    answer = []\n",
    "    # [실행] 버튼을 누르면 출력 값을 볼 수 있습니다.\n",
    "    print('Hello Python')\n",
    "    return answer"
   ]
  },
  {
   "cell_type": "code",
   "execution_count": 6,
   "id": "95b5e82f-1104-4270-bb99-881cea2ad0ba",
   "metadata": {},
   "outputs": [],
   "source": [
    "# 내 풀이\n",
    "def solution(arr):\n",
    "    answer = [arr[0]]\n",
    "    for i in range(1, len(arr)):\n",
    "        if answer[-1] != arr[i]:\n",
    "            answer.append(arr[i])\n",
    "    return answer"
   ]
  },
  {
   "cell_type": "code",
   "execution_count": 7,
   "id": "0d5f586c-ffcd-43ec-a873-ad86af242edf",
   "metadata": {},
   "outputs": [
    {
     "data": {
      "text/plain": [
       "[1, 3, 0, 1]"
      ]
     },
     "execution_count": 7,
     "metadata": {},
     "output_type": "execute_result"
    }
   ],
   "source": [
    "solution([1,1,3,3,0,1,1])"
   ]
  },
  {
   "cell_type": "code",
   "execution_count": 8,
   "id": "dc7b288c-8ca8-4852-a201-5a7c1e0693b4",
   "metadata": {},
   "outputs": [
    {
     "data": {
      "text/plain": [
       "[4, 3]"
      ]
     },
     "execution_count": 8,
     "metadata": {},
     "output_type": "execute_result"
    }
   ],
   "source": [
    "solution([4,4,4,3,3])"
   ]
  },
  {
   "cell_type": "code",
   "execution_count": null,
   "id": "1f887f06-a5e4-49e4-8f7f-af41dfa0be1f",
   "metadata": {},
   "outputs": [],
   "source": []
  }
 ],
 "metadata": {
  "kernelspec": {
   "display_name": "Python 3 (ipykernel)",
   "language": "python",
   "name": "python3"
  },
  "language_info": {
   "codemirror_mode": {
    "name": "ipython",
    "version": 3
   },
   "file_extension": ".py",
   "mimetype": "text/x-python",
   "name": "python",
   "nbconvert_exporter": "python",
   "pygments_lexer": "ipython3",
   "version": "3.10.9"
  }
 },
 "nbformat": 4,
 "nbformat_minor": 5
}
