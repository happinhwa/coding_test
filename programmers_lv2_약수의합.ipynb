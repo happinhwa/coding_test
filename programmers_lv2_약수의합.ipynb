{
 "cells": [
  {
   "cell_type": "markdown",
   "id": "9b3dcd2f-5161-436f-a3bb-9a54fb323d82",
   "metadata": {},
   "source": [
    "# 약수의 합"
   ]
  },
  {
   "cell_type": "markdown",
   "id": "69ac7a5a-51f4-47c4-af0c-f0c99eaf7cde",
   "metadata": {},
   "source": [
    "### 문제 설명\n",
    "- 정수 n을 입력받아 n의 약수를 모두 더한 값을 리턴하는 함수, solution을 완성해주세요.\n",
    "### 제한 사항\n",
    "- n은 0 이상 3000이하인 정수입니다.\n",
    "### 입출력 예\n",
    "- n -> return\n",
    "- 12 -> 28\n",
    "- 5 -> 6\n",
    "\n",
    "### 입출력 예 설명\n",
    "- 입출력 예 #1\n",
    "- 12의 약수는 1, 2, 3, 4, 6, 12입니다. 이를 모두 더하면 28입니다.\n",
    "\n",
    "- 입출력 예 #2\n",
    "- 5의 약수는 1, 5입니다. 이를 모두 더하면 6입니다."
   ]
  },
  {
   "cell_type": "code",
   "execution_count": 2,
   "id": "ddaef23a-7f7e-408a-b8d4-b9d4cd3805cd",
   "metadata": {},
   "outputs": [],
   "source": [
    "# 주어진 코드\n",
    "def solution(n):\n",
    "    answer = 0\n",
    "    return answer"
   ]
  },
  {
   "cell_type": "code",
   "execution_count": 3,
   "id": "d36a5aef-ffc4-4643-b68b-bd1f219defc2",
   "metadata": {},
   "outputs": [],
   "source": [
    "# 내풀이\n",
    "def solution(n):\n",
    "    answer = 0\n",
    "    for i in range(1, n+1):\n",
    "        if n % i == 0:\n",
    "            answer += i\n",
    "    return answer"
   ]
  },
  {
   "cell_type": "code",
   "execution_count": 4,
   "id": "db9c597f-8d4f-4d4e-b287-d83433888418",
   "metadata": {},
   "outputs": [
    {
     "data": {
      "text/plain": [
       "28"
      ]
     },
     "execution_count": 4,
     "metadata": {},
     "output_type": "execute_result"
    }
   ],
   "source": [
    "solution(12)"
   ]
  },
  {
   "cell_type": "code",
   "execution_count": 5,
   "id": "b1423c0f-279b-4feb-941a-97795435d4a6",
   "metadata": {},
   "outputs": [
    {
     "data": {
      "text/plain": [
       "6"
      ]
     },
     "execution_count": 5,
     "metadata": {},
     "output_type": "execute_result"
    }
   ],
   "source": [
    "solution(5)"
   ]
  },
  {
   "cell_type": "code",
   "execution_count": null,
   "id": "c196ff1d-6798-4e07-81ba-1d820db172b8",
   "metadata": {},
   "outputs": [],
   "source": []
  }
 ],
 "metadata": {
  "kernelspec": {
   "display_name": "Python 3 (ipykernel)",
   "language": "python",
   "name": "python3"
  },
  "language_info": {
   "codemirror_mode": {
    "name": "ipython",
    "version": 3
   },
   "file_extension": ".py",
   "mimetype": "text/x-python",
   "name": "python",
   "nbconvert_exporter": "python",
   "pygments_lexer": "ipython3",
   "version": "3.10.9"
  }
 },
 "nbformat": 4,
 "nbformat_minor": 5
}
