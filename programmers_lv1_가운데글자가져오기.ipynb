{
 "cells": [
  {
   "cell_type": "markdown",
   "id": "84ff8ce0-f5a0-4502-b74a-33695c0f5623",
   "metadata": {},
   "source": [
    "# 가운데 글자 가져오기"
   ]
  },
  {
   "cell_type": "markdown",
   "id": "b8f297b9-d802-41e2-b7fb-3dbffae9d0f2",
   "metadata": {},
   "source": [
    "### 문제 설명\n",
    "\n",
    "- 단어 s의 가운데 글자를 반환하는 함수, solution을 만들어 보세요. 단어의 길이가 짝수라면 가운데 두글자를 반환하면 됩니다.\n",
    "### 제한사항\n",
    "- s는 길이가 1 이상, 100이하인 스트링입니다.\n",
    "### 입출력 예\n",
    "- s\treturn\n",
    "- \"abcde\"\t\"c\"\n",
    "- \"qwer\"\t\"we\""
   ]
  },
  {
   "cell_type": "code",
   "execution_count": 2,
   "id": "a24b879b-1782-4ad2-8495-0bc74e9e8932",
   "metadata": {},
   "outputs": [],
   "source": [
    "# 주어진 코드\n",
    "def solution(s):\n",
    "    answer = ''\n",
    "    return answer"
   ]
  },
  {
   "cell_type": "code",
   "execution_count": 3,
   "id": "a8700c36-101b-4bc9-9ec0-3a516e51b8ba",
   "metadata": {},
   "outputs": [],
   "source": [
    "# 내 풀이\n",
    "def solution(s):\n",
    "    answer = ''\n",
    "    if len(s) % 2 == 0:\n",
    "        answer = s[int((len(s)+1)/2 - 1):int((len(s)+1)/2 + 1)]\n",
    "    elif len(s) % 2 == 1:\n",
    "        answer = s[int((len(s)+1)/2 - 1)]\n",
    "    return answer"
   ]
  },
  {
   "cell_type": "code",
   "execution_count": 4,
   "id": "e976b50f-0d54-441e-9ab7-4ebc1e7cdadc",
   "metadata": {},
   "outputs": [
    {
     "data": {
      "text/plain": [
       "'c'"
      ]
     },
     "execution_count": 4,
     "metadata": {},
     "output_type": "execute_result"
    }
   ],
   "source": [
    "solution(\"abcde\")"
   ]
  },
  {
   "cell_type": "code",
   "execution_count": 5,
   "id": "a966e360-8b0c-43eb-a263-33fa754481fe",
   "metadata": {},
   "outputs": [
    {
     "data": {
      "text/plain": [
       "'we'"
      ]
     },
     "execution_count": 5,
     "metadata": {},
     "output_type": "execute_result"
    }
   ],
   "source": [
    "solution(\"qwer\")"
   ]
  },
  {
   "cell_type": "code",
   "execution_count": null,
   "id": "51b975b7-ff25-479f-95b8-360331d210cb",
   "metadata": {},
   "outputs": [],
   "source": []
  }
 ],
 "metadata": {
  "kernelspec": {
   "display_name": "Python 3 (ipykernel)",
   "language": "python",
   "name": "python3"
  },
  "language_info": {
   "codemirror_mode": {
    "name": "ipython",
    "version": 3
   },
   "file_extension": ".py",
   "mimetype": "text/x-python",
   "name": "python",
   "nbconvert_exporter": "python",
   "pygments_lexer": "ipython3",
   "version": "3.10.9"
  }
 },
 "nbformat": 4,
 "nbformat_minor": 5
}
