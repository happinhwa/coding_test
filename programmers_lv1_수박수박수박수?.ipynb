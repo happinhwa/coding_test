{
 "cells": [
  {
   "cell_type": "markdown",
   "id": "635541c5-5f27-4bbf-9e80-1e2928ba3e5b",
   "metadata": {},
   "source": [
    "# 수박수박수박수박수박수?"
   ]
  },
  {
   "cell_type": "markdown",
   "id": "fa9dbc3e-d852-483c-93a0-f99affb2c175",
   "metadata": {},
   "source": [
    "### 문제 설명\n",
    "- 길이가 n이고, \"수박수박수박수....\"와 같은 패턴을 유지하는 문자열을 리턴하는 함수, solution을 완성하세요. 예를들어 n이 4이면 \"수박수박\"을 리턴하고 3이라면 \"수박수\"를 리턴하면 됩니다.\n",
    "\n",
    "### 제한 조건\n",
    "- n은 길이 10,000이하인 자연수입니다.\n",
    "\n",
    "### 입출력 예\n",
    "- n -> return\n",
    "- 3 -> \"수박수\"\n",
    "- 4 -> \"수박수박\""
   ]
  },
  {
   "cell_type": "code",
   "execution_count": null,
   "id": "21ed2d93-7619-41db-8c7f-6730861b2ac3",
   "metadata": {},
   "outputs": [],
   "source": [
    "# 주어진 코드\n",
    "def solution(n):\n",
    "    answer = ''\n",
    "    return answer"
   ]
  },
  {
   "cell_type": "code",
   "execution_count": 4,
   "id": "33986b6f-83c6-433f-afc5-3ccbe504c8e2",
   "metadata": {},
   "outputs": [],
   "source": [
    "# 내 풀이\n",
    "def solution(n):\n",
    "    answer = '수박'* n\n",
    "    answer = answer[:n]\n",
    "    return answer"
   ]
  },
  {
   "cell_type": "code",
   "execution_count": 5,
   "id": "af6ca3db-a475-4839-aae9-27263632bf44",
   "metadata": {},
   "outputs": [
    {
     "data": {
      "text/plain": [
       "'수박수'"
      ]
     },
     "execution_count": 5,
     "metadata": {},
     "output_type": "execute_result"
    }
   ],
   "source": [
    "solution(3)"
   ]
  },
  {
   "cell_type": "code",
   "execution_count": 6,
   "id": "501ee661-cf92-4ae2-afde-581e088418d7",
   "metadata": {},
   "outputs": [
    {
     "data": {
      "text/plain": [
       "'수박수박'"
      ]
     },
     "execution_count": 6,
     "metadata": {},
     "output_type": "execute_result"
    }
   ],
   "source": [
    "solution(4)"
   ]
  },
  {
   "cell_type": "code",
   "execution_count": null,
   "id": "e0cd4c26-7b5a-4346-89f2-dd7f8b8c1710",
   "metadata": {},
   "outputs": [],
   "source": []
  }
 ],
 "metadata": {
  "kernelspec": {
   "display_name": "Python 3 (ipykernel)",
   "language": "python",
   "name": "python3"
  },
  "language_info": {
   "codemirror_mode": {
    "name": "ipython",
    "version": 3
   },
   "file_extension": ".py",
   "mimetype": "text/x-python",
   "name": "python",
   "nbconvert_exporter": "python",
   "pygments_lexer": "ipython3",
   "version": "3.10.9"
  }
 },
 "nbformat": 4,
 "nbformat_minor": 5
}
