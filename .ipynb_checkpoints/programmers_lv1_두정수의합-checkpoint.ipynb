{
 "cells": [
  {
   "cell_type": "markdown",
   "id": "082fd166-56a4-46e5-a6e0-be57a07141d7",
   "metadata": {},
   "source": [
    "# 두 정수 사이의 합"
   ]
  },
  {
   "cell_type": "markdown",
   "id": "68a596de-495f-4507-b33c-afa52950f9de",
   "metadata": {},
   "source": [
    "### 문제 설명\n",
    "- 두 정수 a, b가 주어졌을 때 a와 b 사이에 속한 모든 정수의 합을 리턴하는 함수, solution을 완성하세요. \n",
    "- 예를 들어 a = 3, b = 5인 경우, 3 + 4 + 5 = 12이므로 12를 리턴합니다.\n",
    "\n",
    "### 제한 조건\n",
    "- a와 b가 같은 경우는 둘 중 아무 수나 리턴하세요.\n",
    "- a와 b는 -10,000,000 이상 10,000,000 이하인 정수입니다.\n",
    "- a와 b의 대소관계는 정해져있지 않습니다.\n",
    "\n",
    "### 입출력 예\n",
    "- a * b -> return\n",
    "- 3 * 5 -> 12\n",
    "- 3 * 3 -> 3\n",
    "- 5 * 3 -> 12"
   ]
  },
  {
   "cell_type": "code",
   "execution_count": null,
   "id": "c31f1a21-dc03-4ee6-8439-a7e17ae240c9",
   "metadata": {},
   "outputs": [],
   "source": [
    "# 주어진 코드\n",
    "def solution(a, b):\n",
    "    answer = 0\n",
    "    return answer"
   ]
  },
  {
   "cell_type": "code",
   "execution_count": 2,
   "id": "39592615-1c0e-4c34-809c-f93de0e50d2f",
   "metadata": {},
   "outputs": [],
   "source": [
    "# 내 풀이\n",
    "def solution(a, b):\n",
    "    answer = 0\n",
    "    if (a > b):\n",
    "        for x in range (b, a+1):\n",
    "            answer += x\n",
    "    elif (a < b):\n",
    "        for x in range (a, b+1):\n",
    "            answer += x\n",
    "    else:\n",
    "        answer = a\n",
    "    return answer"
   ]
  },
  {
   "cell_type": "code",
   "execution_count": 3,
   "id": "8d0c9374-78ae-49a9-b1d1-70733e12049f",
   "metadata": {},
   "outputs": [
    {
     "data": {
      "text/plain": [
       "12"
      ]
     },
     "execution_count": 3,
     "metadata": {},
     "output_type": "execute_result"
    }
   ],
   "source": [
    "solution(3,5)"
   ]
  },
  {
   "cell_type": "code",
   "execution_count": 4,
   "id": "f08dbc27-1ddb-4db7-9dfc-a574eac0faaa",
   "metadata": {},
   "outputs": [
    {
     "data": {
      "text/plain": [
       "3"
      ]
     },
     "execution_count": 4,
     "metadata": {},
     "output_type": "execute_result"
    }
   ],
   "source": [
    "solution(3,3)"
   ]
  },
  {
   "cell_type": "code",
   "execution_count": 5,
   "id": "862745de-64c9-4175-b3d4-225cbb5c0989",
   "metadata": {},
   "outputs": [
    {
     "data": {
      "text/plain": [
       "12"
      ]
     },
     "execution_count": 5,
     "metadata": {},
     "output_type": "execute_result"
    }
   ],
   "source": [
    "solution(5,3)"
   ]
  },
  {
   "cell_type": "code",
   "execution_count": null,
   "id": "7b885a85-5088-46af-8621-e37298f0b090",
   "metadata": {},
   "outputs": [],
   "source": []
  }
 ],
 "metadata": {
  "kernelspec": {
   "display_name": "Python 3 (ipykernel)",
   "language": "python",
   "name": "python3"
  },
  "language_info": {
   "codemirror_mode": {
    "name": "ipython",
    "version": 3
   },
   "file_extension": ".py",
   "mimetype": "text/x-python",
   "name": "python",
   "nbconvert_exporter": "python",
   "pygments_lexer": "ipython3",
   "version": "3.10.9"
  }
 },
 "nbformat": 4,
 "nbformat_minor": 5
}
