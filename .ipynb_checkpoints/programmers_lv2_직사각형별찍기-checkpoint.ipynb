{
 "cells": [
  {
   "cell_type": "markdown",
   "id": "19e69be9-7025-4f5c-b670-af7c59fb9d1a",
   "metadata": {},
   "source": [
    "# 직사각형 별찍기"
   ]
  },
  {
   "cell_type": "markdown",
   "id": "59bf5d13-be2b-46fe-8b64-54a80e0602c2",
   "metadata": {},
   "source": [
    "### 문제 설명\n",
    "* 이 문제에는 표준 입력으로 두 개의 정수 n과 m이 주어집니다. 별('*') 문자를 이용해 가로의 길이가 n, 세로의 길이가 m인 직사각형 형태를 출력해보세요.\n",
    "### 제한 조건\n",
    "* n과 m은 각각 1000 이하인 자연수입니다.\n",
    "### 예시\n",
    "* 입력: 5 3\n",
    "* 출력\n",
    "* '*****\n",
    "* '*****\n",
    "* '*****"
   ]
  },
  {
   "cell_type": "code",
   "execution_count": 2,
   "id": "e16098ef-f3b0-41c8-b44a-d3c6356398df",
   "metadata": {},
   "outputs": [
    {
     "name": "stdin",
     "output_type": "stream",
     "text": [
      " 5 3\n"
     ]
    },
    {
     "name": "stdout",
     "output_type": "stream",
     "text": [
      "8\n"
     ]
    }
   ],
   "source": [
    "# 주어진 코드\n",
    "a, b = map(int, input().strip().split(' '))\n",
    "print(a + b)"
   ]
  },
  {
   "cell_type": "code",
   "execution_count": 3,
   "id": "0118a292-9299-468b-a91f-01cb0edfc439",
   "metadata": {},
   "outputs": [
    {
     "name": "stdin",
     "output_type": "stream",
     "text": [
      " 5 3\n"
     ]
    },
    {
     "name": "stdout",
     "output_type": "stream",
     "text": [
      "*****  \n",
      "*****  \n",
      "*****  \n"
     ]
    }
   ],
   "source": [
    "### 내 풀이\n",
    "a, b = map(int, input().strip().split(' '))\n",
    "for i in range (1, b+1):\n",
    "    print(\"*\" * a, \" \")\n",
    "    i += 1"
   ]
  }
 ],
 "metadata": {
  "kernelspec": {
   "display_name": "Python 3 (ipykernel)",
   "language": "python",
   "name": "python3"
  },
  "language_info": {
   "codemirror_mode": {
    "name": "ipython",
    "version": 3
   },
   "file_extension": ".py",
   "mimetype": "text/x-python",
   "name": "python",
   "nbconvert_exporter": "python",
   "pygments_lexer": "ipython3",
   "version": "3.10.9"
  }
 },
 "nbformat": 4,
 "nbformat_minor": 5
}
