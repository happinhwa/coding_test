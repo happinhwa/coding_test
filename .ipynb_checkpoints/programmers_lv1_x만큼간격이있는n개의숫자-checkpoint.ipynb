{
 "cells": [
  {
   "cell_type": "markdown",
   "id": "6d416878-0cec-4a33-8c04-1993b062699a",
   "metadata": {},
   "source": [
    "# x만큼 간격이 있는 n개의 숫자"
   ]
  },
  {
   "cell_type": "markdown",
   "id": "4915e46b-40e2-452a-8b61-2acce199b749",
   "metadata": {},
   "source": [
    "### 문제 설명\n",
    "* 함수 solution은 정수 x와 자연수 n을 입력 받아, x부터 시작해 x씩 증가하는 숫자를 n개 지니는 리스트를 리턴해야 합니다. 다음 제한 조건을 보고, 조건을 만족하는 함수, solution을 완성해주세요.\n",
    "### 제한 조건\n",
    "* x는 -10000000 이상, 10000000 이하인 정수입니다.\n",
    "* n은 1000 이하인 자연수입니다.\n",
    "### 입출력 예\n",
    "* x, n -> answer\n",
    "* 2, 5 -> [2,4,6,8,10]\n",
    "* 4, 3 -> [4,8,12]\n",
    "* -4, 2 -> [-4, -8]"
   ]
  },
  {
   "cell_type": "code",
   "execution_count": 1,
   "id": "14e4c4c1-0df0-4ad9-8920-893bef0c1261",
   "metadata": {},
   "outputs": [],
   "source": [
    "# 주어진 코드\n",
    "def solution(x, n):\n",
    "    answer = []\n",
    "    return answer"
   ]
  },
  {
   "cell_type": "code",
   "execution_count": 2,
   "id": "b9ffc7bd-a002-4fa4-b9a0-6e2cab40d356",
   "metadata": {},
   "outputs": [],
   "source": [
    "# 내 풀이\n",
    "def solution(x, n):\n",
    "    answer = []\n",
    "    for i in range (1, n+1):\n",
    "        answer.append(x*i)\n",
    "        i += 1\n",
    "    return answer"
   ]
  },
  {
   "cell_type": "code",
   "execution_count": 3,
   "id": "94200fdb-c5fd-410a-bead-d203bc15109a",
   "metadata": {},
   "outputs": [
    {
     "data": {
      "text/plain": [
       "[2, 4, 6, 8, 10]"
      ]
     },
     "execution_count": 3,
     "metadata": {},
     "output_type": "execute_result"
    }
   ],
   "source": [
    "solution(2, 5)"
   ]
  },
  {
   "cell_type": "code",
   "execution_count": 4,
   "id": "7c8b47b1-c6c1-4076-86f4-cf0ababc6a6e",
   "metadata": {},
   "outputs": [
    {
     "data": {
      "text/plain": [
       "[4, 8, 12]"
      ]
     },
     "execution_count": 4,
     "metadata": {},
     "output_type": "execute_result"
    }
   ],
   "source": [
    "solution(4, 3)"
   ]
  },
  {
   "cell_type": "code",
   "execution_count": 5,
   "id": "b632cb41-cfcf-4e02-81c0-e77139e3fb12",
   "metadata": {},
   "outputs": [
    {
     "data": {
      "text/plain": [
       "[-4, -8]"
      ]
     },
     "execution_count": 5,
     "metadata": {},
     "output_type": "execute_result"
    }
   ],
   "source": [
    "solution(-4, 2)"
   ]
  }
 ],
 "metadata": {
  "kernelspec": {
   "display_name": "Python 3 (ipykernel)",
   "language": "python",
   "name": "python3"
  },
  "language_info": {
   "codemirror_mode": {
    "name": "ipython",
    "version": 3
   },
   "file_extension": ".py",
   "mimetype": "text/x-python",
   "name": "python",
   "nbconvert_exporter": "python",
   "pygments_lexer": "ipython3",
   "version": "3.10.9"
  }
 },
 "nbformat": 4,
 "nbformat_minor": 5
}
