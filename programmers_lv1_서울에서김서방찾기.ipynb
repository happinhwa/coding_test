{
 "cells": [
  {
   "cell_type": "markdown",
   "id": "a1d9e336-3902-48f0-86c5-01537df7b1b3",
   "metadata": {},
   "source": [
    "# 서울에서 김서방 찾기"
   ]
  },
  {
   "cell_type": "markdown",
   "id": "1910ada9-a937-4ea4-ade8-7957048c203c",
   "metadata": {},
   "source": [
    "### 문제 설명\n",
    "- String형 배열 seoul의 element중 \"Kim\"의 위치 x를 찾아, \"김서방은 x에 있다\"는 String을 반환하는 함수, solution을 완성하세요. seoul에 \"Kim\"은 오직 한 번만 나타나며 잘못된 값이 입력되는 경우는 없습니다.\n",
    "### 제한 사항\n",
    "- seoul은 길이 1 이상, 1000 이하인 배열입니다.\n",
    "- seoul의 원소는 길이 1 이상, 20 이하인 문자열입니다.\n",
    "- \"Kim\"은 반드시 seoul 안에 포함되어 있습니다.\n",
    "### 입출력 예\n",
    "- seoul -> return\n",
    "- [\"Jane\", \"Kim\"] -> \"김서방은 1에 있다\""
   ]
  },
  {
   "cell_type": "code",
   "execution_count": null,
   "id": "776b07c6-e985-49bc-84af-611ce73287dc",
   "metadata": {},
   "outputs": [],
   "source": [
    "# 주어진 코드\n",
    "def solution(seoul):\n",
    "    answer = ''\n",
    "    return answer"
   ]
  },
  {
   "cell_type": "code",
   "execution_count": 8,
   "id": "d8eff83e-fa31-40c0-8dc0-42392f1ea1ab",
   "metadata": {},
   "outputs": [],
   "source": [
    "# 내풀이\n",
    "def solution(seoul):\n",
    "    index_name = seoul.index(\"Kim\")\n",
    "    if \"Kim\" in seoul:\n",
    "        answer = \"김서방은 {}에 있다\".format(index_name)\n",
    "    return answer"
   ]
  },
  {
   "cell_type": "code",
   "execution_count": 9,
   "id": "b3e1ac4b-e539-407f-8a9b-8aeac5798428",
   "metadata": {},
   "outputs": [
    {
     "data": {
      "text/plain": [
       "'김서방은 1에 있다'"
      ]
     },
     "execution_count": 9,
     "metadata": {},
     "output_type": "execute_result"
    }
   ],
   "source": [
    "solution([\"Jane\", \"Kim\"])"
   ]
  },
  {
   "cell_type": "code",
   "execution_count": null,
   "id": "e7c5ef7d-4ffb-45a9-95ae-ceb9e35d44fe",
   "metadata": {},
   "outputs": [],
   "source": []
  }
 ],
 "metadata": {
  "kernelspec": {
   "display_name": "Python 3 (ipykernel)",
   "language": "python",
   "name": "python3"
  },
  "language_info": {
   "codemirror_mode": {
    "name": "ipython",
    "version": 3
   },
   "file_extension": ".py",
   "mimetype": "text/x-python",
   "name": "python",
   "nbconvert_exporter": "python",
   "pygments_lexer": "ipython3",
   "version": "3.10.9"
  }
 },
 "nbformat": 4,
 "nbformat_minor": 5
}
