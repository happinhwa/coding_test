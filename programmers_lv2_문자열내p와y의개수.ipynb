{
 "cells": [
  {
   "cell_type": "markdown",
   "id": "877b16ea-50dc-493a-9fb8-9e0c9b4c7e58",
   "metadata": {},
   "source": [
    "# 문자열 내 p와 y의 개수"
   ]
  },
  {
   "cell_type": "markdown",
   "id": "15892f09-3c98-4c54-bbc0-55d193265443",
   "metadata": {},
   "source": [
    "### 문제 설명\n",
    "- 대문자와 소문자가 섞여있는 문자열 s가 주어집니다. s에 'p'의 개수와 'y'의 개수를 비교해 같으면 True, 다르면 False를 return 하는 solution를 완성하세요. 'p', 'y' 모두 하나도 없는 경우는 항상 True를 리턴합니다. 단, 개수를 비교할 때 대문자와 소문자는 구별하지 않습니다.\n",
    "- 예를 들어 s가 \"pPoooyY\"면 true를 return하고 \"Pyy\"라면 false를 return합니다.\n",
    "### 제한사항\n",
    "- 문자열 s의 길이 : 50 이하의 자연수\n",
    "- 문자열 s는 알파벳으로만 이루어져 있습니다.\n",
    "\n",
    "### 입출력 예\n",
    "- s -> answer\n",
    "- \"pPoooyY\" -> true\n",
    "- \"Pyy\" -> false\n",
    "### 입출력 예 설명\n",
    "- 입출력 예 #1\n",
    "- 'p'의 개수 2개, 'y'의 개수 2개로 같으므로 true를 return 합니다.\n",
    "- 입출력 예 #2\n",
    "- 'p'의 개수 1개, 'y'의 개수 2개로 다르므로 false를 return 합니다."
   ]
  },
  {
   "cell_type": "code",
   "execution_count": 2,
   "id": "7ba8cb02-6fc9-4a2c-85a1-4be15a9ee7aa",
   "metadata": {},
   "outputs": [],
   "source": [
    "# 주어진 코드\n",
    "def solution(s):\n",
    "    answer = True\n",
    "    \n",
    "    # [실행] 버튼을 누르면 출력 값을 볼 수 있습니다.\n",
    "    print('Hello Python')\n",
    "\n",
    "    return True"
   ]
  },
  {
   "cell_type": "code",
   "execution_count": 3,
   "id": "0f2fcf37-fac2-480e-9355-4acdf79c2856",
   "metadata": {},
   "outputs": [],
   "source": [
    "# 내 풀이\n",
    "def solution(s):\n",
    "    if s.lower().count(\"y\") == s.lower().count(\"p\"):\n",
    "        return True\n",
    "    else:\n",
    "        return False"
   ]
  },
  {
   "cell_type": "code",
   "execution_count": 4,
   "id": "e08adb55-eed5-422b-bc11-f2162dfa2d8a",
   "metadata": {},
   "outputs": [
    {
     "data": {
      "text/plain": [
       "True"
      ]
     },
     "execution_count": 4,
     "metadata": {},
     "output_type": "execute_result"
    }
   ],
   "source": [
    "solution(\"pPoooyY\")"
   ]
  },
  {
   "cell_type": "code",
   "execution_count": 5,
   "id": "6d7e3b6e-fa2e-4415-937f-41db1910b9dc",
   "metadata": {},
   "outputs": [
    {
     "data": {
      "text/plain": [
       "False"
      ]
     },
     "execution_count": 5,
     "metadata": {},
     "output_type": "execute_result"
    }
   ],
   "source": [
    "solution(\"Pyy\")"
   ]
  },
  {
   "cell_type": "code",
   "execution_count": null,
   "id": "832d37a5-ffd9-448d-a20e-94d6db275a61",
   "metadata": {},
   "outputs": [],
   "source": []
  }
 ],
 "metadata": {
  "kernelspec": {
   "display_name": "Python 3 (ipykernel)",
   "language": "python",
   "name": "python3"
  },
  "language_info": {
   "codemirror_mode": {
    "name": "ipython",
    "version": 3
   },
   "file_extension": ".py",
   "mimetype": "text/x-python",
   "name": "python",
   "nbconvert_exporter": "python",
   "pygments_lexer": "ipython3",
   "version": "3.10.9"
  }
 },
 "nbformat": 4,
 "nbformat_minor": 5
}
